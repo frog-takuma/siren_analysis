{
 "cells": [
  {
   "cell_type": "code",
   "execution_count": null,
   "metadata": {},
   "outputs": [],
   "source": [
    "from __future__ import unicode_literals\n",
    "import youtube_dl\n",
    "\n",
    "ydl_opts = {}\n",
    "with youtube_dl.YoutubeDL(ydl_opts) as ydl:\n",
    "    ydl.download([''])"
   ]
  },
  {
   "cell_type": "code",
   "execution_count": null,
   "metadata": {},
   "outputs": [],
   "source": [
    "[\"https://www.youtube.com/watch?v=rlfxhnK7CSk&list=PLZr1pGL6dISI128YivKUfKnrC8KVWRAGl&index=22\",\n",
    " \"https://www.youtube.com/watch?v=vBCO5GjqbIg&list=PLZr1pGL6dISI128YivKUfKnrC8KVWRAGl&index=21\",\n",
    " \"https://www.youtube.com/watch?v=amsJajnQCs8&list=PLZr1pGL6dISI128YivKUfKnrC8KVWRAGl&index=20\",\n",
    " \"https://www.youtube.com/watch?v=Y9I8jBzwH0w&list=PLZr1pGL6dISI128YivKUfKnrC8KVWRAGl&index=18\",\n",
    " \"https://www.youtube.com/watch?v=f0KYi6wis8w&list=PLZr1pGL6dISI128YivKUfKnrC8KVWRAGl&index=17\",\n",
    " \"https://www.youtube.com/watch?v=ejvKhIw5m1w&list=PLZr1pGL6dISI128YivKUfKnrC8KVWRAGl&index=16\",\n",
    " \"https://www.youtube.com/watch?v=wX8Vk3MCZu8&list=PLZr1pGL6dISI128YivKUfKnrC8KVWRAGl&index=15\",\n",
    " \"https://www.youtube.com/watch?v=OSwwLkD-B8Q&list=PLZr1pGL6dISI128YivKUfKnrC8KVWRAGl&index=14\",\n",
    " \"https://www.youtube.com/watch?v=mOBO4Db8eXg&list=PLZr1pGL6dISI128YivKUfKnrC8KVWRAGl&index=13\",\n",
    " \"https://www.youtube.com/watch?v=4Kl3Lxrjc0s&list=PLZr1pGL6dISI128YivKUfKnrC8KVWRAGl&index=11\"]"
   ]
  }
 ],
 "metadata": {
  "kernelspec": {
   "display_name": "Python 3.7.13 ('pytorch_1.10.1')",
   "language": "python",
   "name": "python3"
  },
  "language_info": {
   "codemirror_mode": {
    "name": "ipython",
    "version": 3
   },
   "file_extension": ".py",
   "mimetype": "text/x-python",
   "name": "python",
   "nbconvert_exporter": "python",
   "pygments_lexer": "ipython3",
   "version": "3.7.13"
  },
  "orig_nbformat": 4,
  "vscode": {
   "interpreter": {
    "hash": "ba311e117982c6272938f4751f55c388de8db6d9257906ce09cbc7b802243c21"
   }
  }
 },
 "nbformat": 4,
 "nbformat_minor": 2
}
